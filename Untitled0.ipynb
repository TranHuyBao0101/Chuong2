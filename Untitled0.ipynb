{
  "nbformat": 4,
  "nbformat_minor": 0,
  "metadata": {
    "colab": {
      "name": "Untitled0.ipynb",
      "provenance": [],
      "authorship_tag": "ABX9TyPonzKxXw8K4fgP4KevhCDg",
      "include_colab_link": true
    },
    "kernelspec": {
      "name": "python3",
      "display_name": "Python 3"
    },
    "language_info": {
      "name": "python"
    }
  },
  "cells": [
    {
      "cell_type": "markdown",
      "metadata": {
        "id": "view-in-github",
        "colab_type": "text"
      },
      "source": [
        "<a href=\"https://colab.research.google.com/github/TranHuyBao0101/Chuong2/blob/main/Untitled0.ipynb\" target=\"_parent\"><img src=\"https://colab.research.google.com/assets/colab-badge.svg\" alt=\"Open In Colab\"/></a>"
      ]
    },
    {
      "cell_type": "code",
      "execution_count": null,
      "metadata": {
        "id": "R1l-CO4c5GlR"
      },
      "outputs": [],
      "source": [
        "Ví Dụ 1"
      ]
    },
    {
      "cell_type": "code",
      "source": [
        "chuoitinhtoan=\"a*b+c\"\n",
        "a=2\n",
        "b=3\n",
        "c=4"
      ],
      "metadata": {
        "id": "PKm3lBWC7e1R"
      },
      "execution_count": 1,
      "outputs": []
    },
    {
      "cell_type": "code",
      "source": [
        "eval(chuoitinhtoan)"
      ],
      "metadata": {
        "id": "s5SKQgSI72JH",
        "outputId": "720c2a1c-4e75-4cf2-c957-2a87390da5b5",
        "colab": {
          "base_uri": "https://localhost:8080/"
        }
      },
      "execution_count": 2,
      "outputs": [
        {
          "output_type": "execute_result",
          "data": {
            "text/plain": [
              "10"
            ]
          },
          "metadata": {},
          "execution_count": 2
        }
      ]
    },
    {
      "cell_type": "code",
      "source": [
        "from sympy import Symbol\n",
        "x= Symbol('x')\n",
        "y= Symbol('y')\n",
        "bieuthuc=x+y"
      ],
      "metadata": {
        "id": "yR5jFUW98C1_"
      },
      "execution_count": 3,
      "outputs": []
    },
    {
      "cell_type": "code",
      "source": [
        "thaytheso = bieuthuc.subs ({x:10, y:5})\n",
        "thaytheso "
      ],
      "metadata": {
        "id": "_hCPQXLT8rZ_",
        "outputId": "3ce4a24d-0eb4-4a37-e654-481b7f0911eb",
        "colab": {
          "base_uri": "https://localhost:8080/",
          "height": 37
        }
      },
      "execution_count": 6,
      "outputs": [
        {
          "output_type": "execute_result",
          "data": {
            "text/latex": "$\\displaystyle 15$",
            "text/plain": [
              "15"
            ]
          },
          "metadata": {},
          "execution_count": 6
        }
      ]
    },
    {
      "cell_type": "code",
      "source": [
        "u = Symbol('u') "
      ],
      "metadata": {
        "id": "JWtjqkmn9Srh"
      },
      "execution_count": 7,
      "outputs": []
    },
    {
      "cell_type": "code",
      "source": [
        "v = Symbol('v')"
      ],
      "metadata": {
        "id": "SPMd5pgh9bWI"
      },
      "execution_count": 8,
      "outputs": []
    },
    {
      "cell_type": "code",
      "source": [
        " bieuthuc_theo_uv = bieuthuc.subs({x:u, y:v}) "
      ],
      "metadata": {
        "id": "hFxXcYWF9fev"
      },
      "execution_count": 9,
      "outputs": []
    },
    {
      "cell_type": "code",
      "source": [
        "bieuthuc_theo_uv "
      ],
      "metadata": {
        "id": "CqI8rBIH9dd_",
        "outputId": "3b8f6805-25aa-42bb-d508-c2ffbd8fb93a",
        "colab": {
          "base_uri": "https://localhost:8080/",
          "height": 38
        }
      },
      "execution_count": 10,
      "outputs": [
        {
          "output_type": "execute_result",
          "data": {
            "text/latex": "$\\displaystyle u + v$",
            "text/plain": [
              "u + v"
            ]
          },
          "metadata": {},
          "execution_count": 10
        }
      ]
    },
    {
      "cell_type": "code",
      "source": [
        "u = Symbol('u') \n",
        "v = Symbol('v') \n",
        "a = Symbol('a') \n",
        "from sympy import sin, cos \n",
        "bieuthuc_theo_uv = bieuthuc2.subs({x : a*sin(u), y : a*cos(u)})"
      ],
      "metadata": {
        "id": "8dheyGHV_a5N"
      },
      "execution_count": 18,
      "outputs": []
    },
    {
      "cell_type": "code",
      "source": [
        "bieuthuc_theo_uv = bieuthuc2.subs({x : a*sin(u), y : a*cos(u)})"
      ],
      "metadata": {
        "id": "x3gXL4kx_zTu",
        "outputId": "aa5cfd07-c4d4-4e4d-9aa5-2b2fdee57dc2",
        "colab": {
          "base_uri": "https://localhost:8080/",
          "height": 165
        }
      },
      "execution_count": 19,
      "outputs": [
        {
          "output_type": "error",
          "ename": "NameError",
          "evalue": "ignored",
          "traceback": [
            "\u001b[0;31m---------------------------------------------------------------------------\u001b[0m",
            "\u001b[0;31mNameError\u001b[0m                                 Traceback (most recent call last)",
            "\u001b[0;32m<ipython-input-19-55f6f71d9dc7>\u001b[0m in \u001b[0;36m<module>\u001b[0;34m()\u001b[0m\n\u001b[0;32m----> 1\u001b[0;31m \u001b[0mbieuthuc_theo_uv\u001b[0m \u001b[0;34m=\u001b[0m \u001b[0mbieuthuc2\u001b[0m\u001b[0;34m.\u001b[0m\u001b[0msubs\u001b[0m\u001b[0;34m(\u001b[0m\u001b[0;34m{\u001b[0m\u001b[0mx\u001b[0m \u001b[0;34m:\u001b[0m \u001b[0ma\u001b[0m\u001b[0;34m*\u001b[0m\u001b[0msin\u001b[0m\u001b[0;34m(\u001b[0m\u001b[0mu\u001b[0m\u001b[0;34m)\u001b[0m\u001b[0;34m,\u001b[0m \u001b[0my\u001b[0m \u001b[0;34m:\u001b[0m \u001b[0ma\u001b[0m\u001b[0;34m*\u001b[0m\u001b[0mcos\u001b[0m\u001b[0;34m(\u001b[0m\u001b[0mu\u001b[0m\u001b[0;34m)\u001b[0m\u001b[0;34m}\u001b[0m\u001b[0;34m)\u001b[0m\u001b[0;34m\u001b[0m\u001b[0;34m\u001b[0m\u001b[0m\n\u001b[0m",
            "\u001b[0;31mNameError\u001b[0m: name 'bieuthuc2' is not defined"
          ]
        }
      ]
    }
  ]
}